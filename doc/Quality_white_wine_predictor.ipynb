{
 "cells": [
  {
   "cell_type": "markdown",
   "id": "923159b7-22b9-4473-9fdf-5f0fc91dbe80",
   "metadata": {},
   "source": [
    "**Quality white wine predictor**\n",
    "================\n",
    "Authors: Aldo Saltao Barros, Nikita Shimberg, Yair Guterman, Son Chau\n"
   ]
  },
  {
   "cell_type": "markdown",
   "id": "32409983-898d-477b-bca2-9a655a6ab66d",
   "metadata": {},
   "source": [
    "# Summary\n",
    "\n",
    "Final part....\n",
    "\n",
    "**Goal**\n",
    "This project aims to determine a model to predict wine quality given measurable wine features.\n"
   ]
  },
  {
   "cell_type": "markdown",
   "id": "976dc827-ce19-4f4e-98d8-722ce650c8a5",
   "metadata": {},
   "source": [
    "# Introduction\n",
    "According to experts, wine is differentiated according to its smell, flavour, and colour, but most people are not wine experts to say that wine is good or bad. The quality of the wine is determined by many variables including, but not limited to, the ones mentioned previously. The quality of a wine is important for the consumers as well as the wine industry. For instance, industry players are using product quality certifications to promote their products. However, this is a time-consuming process and requires the assessment given by human experts, which makes this process very expensive. Nowadays, machine learning models are important tools to replace human tasks and, in this case, a good wine quality prediction can be very useful in the certification phase. For example, an automatic predictive system can be integrated into a decision support system, helping the speed and quality of the performance.\n",
    "\n"
   ]
  },
  {
   "cell_type": "markdown",
   "id": "3ea90f87-199f-4d22-965c-4b9a1ed527c6",
   "metadata": {},
   "source": [
    "# Methods\n",
    "\n",
    "**How to analyze the data**\n",
    "Our task here is to focus on what white wine features are important to get the promising result. For the purpose of classification model and evaluation of the relevant features, we are using algorithms such as 1) Decision Tree, 2) SVC, 3) K-NN, 4) Navie Bayes, and 5) Logistic Regression. We will test them and compare what is the best model and the best parameters to use in this prediction.\n",
    "\n",
    "\n",
    "## Data\n",
    "The wine quality dataset is publicly available on the UCI machine learning repository (https://archive.ics.uci.edu/ml/datasets/Wine+Quality). The dataset has two files, red wine and white wine variants of the Portuguese “Vinho Verde” wine. It contains a large collection of datasets that have been used for the machine learning community. The red wine dataset contains 1599 instances and the white wine dataset contains 4898 instances. Both files contain 11 input features and 1 output feature. Input features are based on the physicochemical tests and output variable based on sensory data is scaled in 11 quality classes from 0 to 10 (0-very bad to 10-very good).\n",
    "\n",
    "\n",
    "Input variables:\n",
    "\n",
    "1. fixed acidity\n",
    "2. volatile acidity\n",
    "3. citric acid\n",
    "4. residual sugar\n",
    "5. chlorides\n",
    "6. free sulfur dioxide\n",
    "7. total sulfur dioxide\n",
    "8. density\n",
    "9. pH\n",
    "10. sulphates\n",
    "11. alcohol\n",
    "\n"
   ]
  },
  {
   "cell_type": "markdown",
   "id": "c528c397-a1ba-4cf0-ba4c-df3aa38bdbf7",
   "metadata": {},
   "source": [
    "\n",
    "**EDA first conclusions**\n",
    "\n",
    "According to our first EDA, we do not have a balanced database, our wines are concentrated around quality 5 and 7.5 (around 80% of data points). Besides, we have a couple of signs about some variables. For instance, it appears that the higher the alcohol level, the better the wine quality. Additionally, the smaller the chlorides and total sulphur dioxide the better the wine quality. Some variables seem do not influence wine quality on their own. When combining these variables, they might indeed influence wine quality.\n"
   ]
  },
  {
   "cell_type": "markdown",
   "id": "e4199e32-0f9c-48a9-9714-4ccf2f5554b3",
   "metadata": {},
   "source": []
  }
 ],
 "metadata": {
  "kernelspec": {
   "display_name": "Python 3 (ipykernel)",
   "language": "python",
   "name": "python3"
  },
  "language_info": {
   "codemirror_mode": {
    "name": "ipython",
    "version": 3
   },
   "file_extension": ".py",
   "mimetype": "text/x-python",
   "name": "python",
   "nbconvert_exporter": "python",
   "pygments_lexer": "ipython3",
   "version": "3.9.5"
  }
 },
 "nbformat": 4,
 "nbformat_minor": 5
}
