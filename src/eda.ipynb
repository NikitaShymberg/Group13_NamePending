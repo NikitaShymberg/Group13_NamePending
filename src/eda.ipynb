{
 "cells": [
  {
   "cell_type": "code",
   "execution_count": 5,
   "metadata": {},
   "outputs": [
    {
     "data": {
      "text/html": [
       "<div>\n",
       "<style scoped>\n",
       "    .dataframe tbody tr th:only-of-type {\n",
       "        vertical-align: middle;\n",
       "    }\n",
       "\n",
       "    .dataframe tbody tr th {\n",
       "        vertical-align: top;\n",
       "    }\n",
       "\n",
       "    .dataframe thead th {\n",
       "        text-align: right;\n",
       "    }\n",
       "</style>\n",
       "<table border=\"1\" class=\"dataframe\">\n",
       "  <thead>\n",
       "    <tr style=\"text-align: right;\">\n",
       "      <th></th>\n",
       "      <th>fixed acidity;\"volatile acidity\";\"citric acid\";\"residual sugar\";\"chlorides\";\"free sulfur dioxide\";\"total sulfur dioxide\";\"density\";\"pH\";\"sulphates\";\"alcohol\";\"quality\"</th>\n",
       "    </tr>\n",
       "  </thead>\n",
       "  <tbody>\n",
       "    <tr>\n",
       "      <th>2552</th>\n",
       "      <td>6.6;0.36;0.52;11.3;0.046;8;110;0.9966;3.07;0.4...</td>\n",
       "    </tr>\n",
       "    <tr>\n",
       "      <th>4577</th>\n",
       "      <td>6.3;0.15;0.34;11.4;0.05;25;96;0.99754;3.21;0.4...</td>\n",
       "    </tr>\n",
       "    <tr>\n",
       "      <th>2738</th>\n",
       "      <td>6.9;0.615;0.42;12;0.067;24;131;0.99727;3.19;0....</td>\n",
       "    </tr>\n",
       "    <tr>\n",
       "      <th>1090</th>\n",
       "      <td>8.3;0.21;0.58;17.1;0.049;62;213;1.0006;3.01;0....</td>\n",
       "    </tr>\n",
       "    <tr>\n",
       "      <th>3813</th>\n",
       "      <td>7;0.3;0.28;2.2;0.042;21;177;0.99166;3.2;0.57;1...</td>\n",
       "    </tr>\n",
       "    <tr>\n",
       "      <th>...</th>\n",
       "      <td>...</td>\n",
       "    </tr>\n",
       "    <tr>\n",
       "      <th>4426</th>\n",
       "      <td>6.2;0.21;0.52;6.5;0.047;28;123;0.99418;3.22;0....</td>\n",
       "    </tr>\n",
       "    <tr>\n",
       "      <th>4503</th>\n",
       "      <td>5.8;0.61;0.01;8.4;0.041;31;104;0.9909;3.26;0.7...</td>\n",
       "    </tr>\n",
       "    <tr>\n",
       "      <th>3360</th>\n",
       "      <td>7.1;0.18;0.49;1.3;0.033;12;72;0.99072;3.05;0.5...</td>\n",
       "    </tr>\n",
       "    <tr>\n",
       "      <th>1899</th>\n",
       "      <td>6.7;0.44;0.31;1.9;0.03;41;104;0.99;3.29;0.62;1...</td>\n",
       "    </tr>\n",
       "    <tr>\n",
       "      <th>3988</th>\n",
       "      <td>6.1;0.2;0.17;1.6;0.048;46;129;0.991;3.3;0.43;1...</td>\n",
       "    </tr>\n",
       "  </tbody>\n",
       "</table>\n",
       "<p>3918 rows × 1 columns</p>\n",
       "</div>"
      ],
      "text/plain": [
       "     fixed acidity;\"volatile acidity\";\"citric acid\";\"residual sugar\";\"chlorides\";\"free sulfur dioxide\";\"total sulfur dioxide\";\"density\";\"pH\";\"sulphates\";\"alcohol\";\"quality\"\n",
       "2552  6.6;0.36;0.52;11.3;0.046;8;110;0.9966;3.07;0.4...                                                                                                                     \n",
       "4577  6.3;0.15;0.34;11.4;0.05;25;96;0.99754;3.21;0.4...                                                                                                                     \n",
       "2738  6.9;0.615;0.42;12;0.067;24;131;0.99727;3.19;0....                                                                                                                     \n",
       "1090  8.3;0.21;0.58;17.1;0.049;62;213;1.0006;3.01;0....                                                                                                                     \n",
       "3813  7;0.3;0.28;2.2;0.042;21;177;0.99166;3.2;0.57;1...                                                                                                                     \n",
       "...                                                 ...                                                                                                                     \n",
       "4426  6.2;0.21;0.52;6.5;0.047;28;123;0.99418;3.22;0....                                                                                                                     \n",
       "4503  5.8;0.61;0.01;8.4;0.041;31;104;0.9909;3.26;0.7...                                                                                                                     \n",
       "3360  7.1;0.18;0.49;1.3;0.033;12;72;0.99072;3.05;0.5...                                                                                                                     \n",
       "1899  6.7;0.44;0.31;1.9;0.03;41;104;0.99;3.29;0.62;1...                                                                                                                     \n",
       "3988  6.1;0.2;0.17;1.6;0.048;46;129;0.991;3.3;0.43;1...                                                                                                                     \n",
       "\n",
       "[3918 rows x 1 columns]"
      ]
     },
     "execution_count": 5,
     "metadata": {},
     "output_type": "execute_result"
    }
   ],
   "source": [
    "import altair as alt\n",
    "from preprocess import split_test_data\n",
    "\n",
    "split_test_data(\"../data/raw/winequality-white.csv\")[0]"
   ]
  },
  {
   "cell_type": "code",
   "execution_count": null,
   "metadata": {},
   "outputs": [],
   "source": []
  }
 ],
 "metadata": {
  "interpreter": {
   "hash": "e41716ed60374cdbe6d488ddb82070097d36448e47b3edbac5463ae04d037a1a"
  },
  "kernelspec": {
   "display_name": "Python 3.9.7 64-bit ('571': conda)",
   "language": "python",
   "name": "python3"
  },
  "language_info": {
   "codemirror_mode": {
    "name": "ipython",
    "version": 3
   },
   "file_extension": ".py",
   "mimetype": "text/x-python",
   "name": "python",
   "nbconvert_exporter": "python",
   "pygments_lexer": "ipython3",
   "version": "3.9.7"
  },
  "orig_nbformat": 4
 },
 "nbformat": 4,
 "nbformat_minor": 2
}
